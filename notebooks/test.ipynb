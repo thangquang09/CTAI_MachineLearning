{
 "cells": [
  {
   "cell_type": "code",
   "execution_count": 1,
   "id": "827622f5",
   "metadata": {},
   "outputs": [
    {
     "name": "stderr",
     "output_type": "stream",
     "text": [
      "/home/thangquang09/CODE/CTAI_MachineLearning/.venv/lib/python3.10/site-packages/tqdm/auto.py:21: TqdmWarning: IProgress not found. Please update jupyter and ipywidgets. See https://ipywidgets.readthedocs.io/en/stable/user_install.html\n",
      "  from .autonotebook import tqdm as notebook_tqdm\n",
      "Generating case1_train split: 100%|██████████| 150/150 [00:00<00:00, 26262.55 examples/s]\n",
      "Generating case1_validation split: 100%|██████████| 20/20 [00:00<00:00, 9515.21 examples/s]\n",
      "Generating case2_train split: 100%|██████████| 756/756 [00:00<00:00, 78647.10 examples/s]\n",
      "Generating case2_validation split: 100%|██████████| 100/100 [00:00<00:00, 29096.80 examples/s]\n"
     ]
    }
   ],
   "source": [
    "from datasets import load_dataset\n",
    "\n",
    "dataset = load_dataset('thangquang09/fake-new-imposter-hunt-in-texts')"
   ]
  },
  {
   "cell_type": "code",
   "execution_count": 2,
   "id": "d332500e",
   "metadata": {},
   "outputs": [
    {
     "data": {
      "text/plain": [
       "DatasetDict({\n",
       "    case1_train: Dataset({\n",
       "        features: ['file_1', 'file_2', 'label'],\n",
       "        num_rows: 150\n",
       "    })\n",
       "    case1_validation: Dataset({\n",
       "        features: ['file_1', 'file_2', 'label'],\n",
       "        num_rows: 20\n",
       "    })\n",
       "    case2_train: Dataset({\n",
       "        features: ['file_1', 'file_2', 'label'],\n",
       "        num_rows: 756\n",
       "    })\n",
       "    case2_validation: Dataset({\n",
       "        features: ['file_1', 'file_2', 'label'],\n",
       "        num_rows: 100\n",
       "    })\n",
       "})"
      ]
     },
     "execution_count": 2,
     "metadata": {},
     "output_type": "execute_result"
    }
   ],
   "source": [
    "dataset"
   ]
  }
 ],
 "metadata": {
  "kernelspec": {
   "display_name": "ctai-machinelearning",
   "language": "python",
   "name": "python3"
  },
  "language_info": {
   "codemirror_mode": {
    "name": "ipython",
    "version": 3
   },
   "file_extension": ".py",
   "mimetype": "text/x-python",
   "name": "python",
   "nbconvert_exporter": "python",
   "pygments_lexer": "ipython3",
   "version": "3.10.18"
  }
 },
 "nbformat": 4,
 "nbformat_minor": 5
}
