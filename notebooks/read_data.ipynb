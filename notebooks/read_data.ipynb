{
 "cells": [
  {
   "cell_type": "code",
   "execution_count": null,
   "id": "ef8fce96",
   "metadata": {},
   "outputs": [],
   "source": [
    "import numpy as np \n",
    "import json\n",
    "from underthesea import sent_tokenize\n",
    "json_path = '/home/thangquang/CODE/CTAI_MachineLearning/data/ise-dsc01-train_new.json'\n",
    "\n",
    "\n",
    "with open(json_path, 'r', encoding='utf-8') as f:\n",
    "    data = json.loads(f.read())\n",
    "\n",
    "keys = list(data.keys())"
   ]
  },
  {
   "cell_type": "code",
   "execution_count": 40,
   "id": "83c758a0",
   "metadata": {},
   "outputs": [
    {
     "data": {
      "text/plain": [
       "{'context': 'Phát biểu tại lễ ký kết vào ngày 17/11, Giám đốc điều hành kiêm đồng sáng lập FABA Technology - Nguyễn Thành Hưng nhận định trong bối cảnh \"bình thường mới\" như hiện tại, mô hình đào tạo 100% online của FUNiX là một trong những cách có thể giải bài toán khan hiếm nhân lực của ngành công nghệ thông tin.\\n\\nÔng cũng chia sẻ việc trở thành đối tác đào tạo và tuyển dụng cùng FUNiX sẽ giúp FABA Technology đạt mục tiêu trở thành công ty offshore development chất lượng nhất trong khu vực.\\n\\nQua hợp tác này, FABA kỳ vọng sẽ có ứng viên chất lượng cho rất nhiều vị trí công việc đang tìm kiếm như Automation Tester, UI/UX Designer, Web Developer, Mobile Developer ở nhiều cấp độ... \"Chúng tôi hoàn toàn tin tưởng vào chất lượng đào tạo của FUNiX\" - ông nhấn mạnh.\\n\\nĐể thu hút và giữ chân nhân tài trong một thị trường nhân sự IT khốc liệt, FABA không giới hạn mức lương, luôn cập nhật để dải lương đạt mức cạnh tranh tốt so với thị trường. Công ty cũng có chế độ đãi ngộ tốt, có lương tháng 13, 14, phụ cấp... Bên cạnh đó, FABA thường xuyên tổ chức những dự án đào tạo kỹ năng nghề nghiệp, kỹ năng mềm, chú trọng xây dựng văn hoá doanh nghiệp để thúc đẩy phát triển đội ngũ.\\n\\nFABA Technology thành lập năm 2016, chuyên cung cấp dịch vụ phát triển phần mềm offshore cho nhiều khách hàng lớn trên toàn cầu như Mỹ, Australia, Singapore, và châu Âu. Trong đó có Havas - một trong những tập đoàn quảng cáo và truyền thông lớn nhất thế giới.\\n\\nVân Nguyễn',\n",
       " 'claim': 'Ngoài việc không giới hạn mức lương, công ty còn có đãi ngộ tốt, có phụ cấp, lương tháng 13,14,...',\n",
       " 'verdict': 'SUPPORTED',\n",
       " 'evidence': 'Công ty cũng có chế độ đãi ngộ tốt, có lương tháng 13, 14, phụ cấp..',\n",
       " 'domain': 'giao-duc'}"
      ]
     },
     "execution_count": 40,
     "metadata": {},
     "output_type": "execute_result"
    }
   ],
   "source": [
    "sample_data = data[keys[0]]\n",
    "sample_data"
   ]
  },
  {
   "cell_type": "code",
   "execution_count": 74,
   "id": "44533c30",
   "metadata": {},
   "outputs": [],
   "source": [
    "sample_context = sample_data['context']\n",
    "sample_verdict = sample_data['verdict']\n",
    "sample_evidence = sample_data['evidence']\n",
    "sample_claim = sample_data['claim']"
   ]
  },
  {
   "cell_type": "code",
   "execution_count": 16,
   "id": "2575ba4e",
   "metadata": {},
   "outputs": [
    {
     "data": {
      "text/plain": [
       "37967"
      ]
     },
     "execution_count": 16,
     "metadata": {},
     "output_type": "execute_result"
    }
   ],
   "source": [
    "len(data)"
   ]
  },
  {
   "cell_type": "code",
   "execution_count": 92,
   "id": "33a12ff3",
   "metadata": {},
   "outputs": [],
   "source": [
    "# lặp qua tất cả các sample, kiểm tra xem mỗi trường có bao nhiêu thông tin bị missing\n",
    "missing_values = {\n",
    "    'context': 0,\n",
    "    'claim': 0,\n",
    "    'evidence': 0,\n",
    "    'verdict': 0\n",
    "}\n",
    "missing_idx = []\n",
    "\n",
    "for idx, sample in enumerate(data.values()):\n",
    "    for key in missing_values.keys():\n",
    "        if not sample[key]:\n",
    "            missing_values[key] += 1\n",
    "            missing_idx.append(idx)\n"
   ]
  },
  {
   "cell_type": "code",
   "execution_count": 91,
   "id": "4a7f2f3e",
   "metadata": {},
   "outputs": [
    {
     "data": {
      "text/plain": [
       "{'context': 0, 'claim': 0, 'evidence': 12583, 'verdict': 0}"
      ]
     },
     "execution_count": 91,
     "metadata": {},
     "output_type": "execute_result"
    }
   ],
   "source": [
    "missing_values"
   ]
  },
  {
   "cell_type": "code",
   "execution_count": 96,
   "id": "47d9136e",
   "metadata": {},
   "outputs": [
    {
     "data": {
      "text/plain": [
       "{'context': 'Thay mặt 10 thanh niên tiêu biểu nhận bằng khen của Bộ trưởng Quốc phòng, thượng úy Lê Hảo (Trợ lý Thanh niên, Phòng Chính trị, Bộ Tư lệnh TP HCM) cho biết sau khi tốt nghiệp trường Sĩ quan Chính trị năm 2020, anh được phân công về Sư đoàn Gia Định. Đây là thời điểm TP HCM bước vào giai đoạn chống dịch Covid-19 cam go nhất.\\n\\nĐược giao tham gia tổ công tác đặc biệt làm nhiệm vụ tiếp nhận xử lý thi hài của nạn nhân không may qua đời do mắc Covid-19, anh xác định đây nhiệm vụ khó khăn nhưng vô cùng thiêng liêng. Dù nguy cơ lây nhiễm cao, thượng úy Hảo cùng đồng đội động viên nhau ngày đêm làm việc, hoàn thành nhiệm vụ được giao.\\n\\n\"Tôi hứa tuyệt đối trung thành, sẵn sàng chiến đấu, hy sinh bảo vệ Tổ quốc, Đảng, Nhà nước, nhân dân và chế độ Xã hội chủ nghĩa\", thượng úy Hảo nói.\\n\\nĐây là đài rađa có các tính năng tương đương và nhiều điểm vượt trội so với các sản phẩm rađa nước ngoài. Đơn cử như khả năng cơ động - yếu tố sống còn trong tác chiến hiện đại; kích thước ăngten và hệ thống xử lý nhỏ gọn, cho phép nâng độ cao ăngten lên 10 m (đài rađa Monolith-B/Nga độ cao ăngten chỉ lên đến 7,5m), từ đó tăng 10-30% khả năng phát hiện mục tiêu do giới hạn tầm nhìn thẳng; hệ thống xử lý tốc độ cao.\\n\\nRađa VRS-MCX dự kiến đem lại doanh thu gần 2.000 tỷ đồng trong giai đoạn 2022-2025 với tổng số lượng 15 đài.\\n\\nChủ tịch nước Võ Văn Thưởng đánh giá cao những quân nhân xuất sắc được vinh danh. 10 gương mặt trẻ tiêu biểu, 43 gương mặt triển vọng toàn quân năm nay \"đều có thành tích nổi bật, xuất sắc trên các lĩnh vực, đã trải qua khổ luyện và phấn đấu bền bỉ, không ngừng\". Vì vậy, ông giao chỉ huy và cơ quan chính trị toàn quân \"hết sức chăm lo\", tạo điều kiện cho thanh niên quân đội học tập, rèn luyện, cống hiến, tiến bộ và trưởng thành.\\n\\nChủ tịch nước đề nghị thanh niên quân đội không ngừng học tập, nâng cao trình độ, kiến thức tổng hợp và chuyên sâu, nâng cao khả năng tự học, năng động, sáng tạo, dám nghĩ, dám làm. Mỗi quân nhân \"cần thích ứng nhanh với thực tiễn, vươn lên làm chủ khoa học - công nghệ và vũ khí trang bị kỹ thuật hiện đại, hoàn thành xuất sắc nhiệm vụ được giao\".\\n\\nCạnh đó, thanh niên quân đội cũng phải thực hiện tốt công tác dân vận, tham gia tích cực vào các chương trình an sinh xã hội, xây dựng nông thôn mới, phòng, chống khắc phục thiên tai, dịch bệnh.\\n\\nGương mặt trẻ tiêu biểu, Gương mặt trẻ triển vọng toàn quân là danh hiệu được Bộ Quốc phòng tổ chức bình chọn và tuyên dương hàng năm. Ba năm qua, có 30 quân nhân được tuyên dương Gương mặt trẻ tiêu biểu toàn quân. 100% số này hoàn thành tốt và xuất sắc nhiệm vụ, được các cấp khen thưởng, 12 người được bổ nhiệm cương vị công tác cao.\\n\\nDanh sách 10 gương mặt trẻ tiêu biểu toàn quân năm 2022:',\n",
       " 'claim': 'Cạnh đó, thanh niên quân đội và thanh niên tiền phon cũng phải thực hiện tốt công tác dân vận, tham gia tích cực vào các chương trình an sinh xã hội, xây dựng nông thôn mới, phòng, chống khắc phục thiên tai, dịch bệnh, xóa đói giảm nghèo.',\n",
       " 'verdict': 'NEI',\n",
       " 'evidence': None,\n",
       " 'domain': 'thoi-su'}"
      ]
     },
     "execution_count": 96,
     "metadata": {},
     "output_type": "execute_result"
    }
   ],
   "source": [
    "data[keys[missing_idx[0]]]"
   ]
  },
  {
   "cell_type": "code",
   "execution_count": 93,
   "id": "53d663f2",
   "metadata": {},
   "outputs": [
    {
     "data": {
      "text/plain": [
       "12786"
      ]
     },
     "execution_count": 93,
     "metadata": {},
     "output_type": "execute_result"
    }
   ],
   "source": [
    "missing_idx[0]"
   ]
  },
  {
   "cell_type": "code",
   "execution_count": 14,
   "id": "8adb767e",
   "metadata": {},
   "outputs": [],
   "source": [
    "import re\n",
    "import unicodedata\n",
    "from pyvi import ViTokenizer\n",
    "\n",
    "def preprocessing(text: str) -> str:\n",
    "    # chuẩn hóa unicode\n",
    "    text = unicodedata.normalize('NFC', text)\n",
    "    # đưa về chữ thường\n",
    "    text = text.lower()\n",
    "    # xoa cac html tag\n",
    "    text = re.sub(r'<[^>]+>', '', text)\n",
    "    # xoa khoang trang\n",
    "    text = re.sub(r'\\s+', ' ', text).strip()\n",
    "    # MINIMAL cleaning - chỉ xóa emoji\n",
    "    # Giữ lại punctuation vì có thể quan trọng cho meaning\n",
    "    text = re.sub(r'[^\\u00C0-\\u1EF9a-zA-Z0-9\\s.,!?;:()\\-\"\\'%]', '', text)\n",
    "    # tokenize theo tieng viet\n",
    "    text = ViTokenizer.tokenize(text)\n",
    "    return text"
   ]
  },
  {
   "cell_type": "code",
   "execution_count": 15,
   "id": "0f7aa7fd",
   "metadata": {},
   "outputs": [
    {
     "data": {
      "text/plain": [
       "'ngoài việc không giới_hạn_mức lương , công_ty còn có đãi_ngộ tốt , có phụ_cấp , lương tháng 13,14 , ...'"
      ]
     },
     "execution_count": 15,
     "metadata": {},
     "output_type": "execute_result"
    }
   ],
   "source": [
    "preprocessing(data[keys[0]]['claim'])"
   ]
  },
  {
   "cell_type": "code",
   "execution_count": 97,
   "id": "8abc32e3",
   "metadata": {},
   "outputs": [],
   "source": [
    "def prepare_data(sample_data):\n",
    "    context = sent_tokenize(preprocessing(sample_data['context']))\n",
    "    claim = preprocessing(sample_data['claim'])\n",
    "    evidence = preprocessing(sample_data['evidence']) if sample_data['evidence'] else ''\n",
    "    verdict = sample_data['verdict']\n",
    "\n",
    "    return {\n",
    "        'context': context,\n",
    "        'claim': claim,\n",
    "        'evidence': evidence,\n",
    "        'verdict': verdict\n",
    "    }"
   ]
  },
  {
   "cell_type": "code",
   "execution_count": null,
   "id": "feba0789",
   "metadata": {},
   "outputs": [],
   "source": [
    "new_data = [prepare_data(sample_data) for sample_data in data.values()]"
   ]
  },
  {
   "cell_type": "code",
   "execution_count": 100,
   "id": "295b1928",
   "metadata": {},
   "outputs": [],
   "source": [
    "\n",
    "## lưu new_data ra ổ đĩa\n",
    "json.dump(new_data, open('/home/thangquang/CODE/CTAI_MachineLearning/data/ise-dsc01-train_new_preprocessed.json', 'w', encoding='utf-8'), ensure_ascii=False, indent=4)"
   ]
  },
  {
   "cell_type": "code",
   "execution_count": 99,
   "id": "cc760d5b",
   "metadata": {},
   "outputs": [
    {
     "data": {
      "text/plain": [
       "{'context': ['pgs .',\n",
       "  'ts nguyễn quang liệu , hiệu_trưởng trường thpt chuyên_khoa_học xã_hội và nhân_văn , hôm 155 cho biết có 1.579 thí_sinh đăng_ký vào ba lớp chuyên của trường , trong khi chỉ_tiêu là 136 .',\n",
       "  'lớp chuyên ngữ_văn có 970 học_sinh đăng_ký - cao nhất từ trước đến nay .',\n",
       "  'với chỉ_tiêu 66 , lớp này có tỷ_lệ chọi 114,7 , tăng so với mức 19 của năm_ngoái .',\n",
       "  'như_vậy , tính trung_bình thì cứ 15 thí_sinh mới có một em trúng_tuyển .',\n",
       "  'hai lớp chuyên lịch_sử và địa_lý cùng tuyển 35 học_sinh , lần_lượt nhận 317 và 292 hồ_sơ , tỷ_lệ chọi là 19,05 và 18,3 , cũng tăng so với năm 2022 .',\n",
       "  'ngoài ba lớp chuyên , trường tuyển 34 học_sinh hệ chất_lượng cao .',\n",
       "  'tất_cả thí_sinh phải làm bốn bài thi_viết hôm 46 , gồm ngữ_văn , toán , tiếng anh và môn chuyên .',\n",
       "  'trong đó , đề môn ngữ_văn và môn chuyên theo hình_thức tự luận , thời_gian làm bài lần_lượt 90 và 150 phút .',\n",
       "  'thí_sinh thi trắc_nghiệm môn toán trong 50 phút và tiếng anh 45 phút .',\n",
       "  'lệ_phí đăng_ký và thi_tuyển là 460.000 đồng .',\n",
       "  'điểm xét tuyển là tổng_điểm các môn thi theo thang điểm 10 , môn chuyên nhân hệ_số hai .',\n",
       "  'trường không cộng điểm ưu_tiên trong tuyển_sinh , không xét tuyển thẳng .',\n",
       "  'kết_quả xét tuyển vào các lớp chuyên sẽ được công_bố trước ngày 17 .',\n",
       "  'với lớp chất_lượng cao , trường tuyển từ những thí_sinh không trúng_tuyển hệ chuyên , có điểm thi từng môn đạt từ 4 trở lên và có đăng_ký xét tuyển vào lớp chất_lượng cao .',\n",
       "  'điểm xét tuyển vào lớp này là tổng_ba môn chung , không tính môn chuyên .',\n",
       "  'trường thpt chuyên_khoa_học xã_hội và nhân_văn được thành_lập tháng 102019 .',\n",
       "  'đây là trường thpt thứ tư trực_thuộc đại_học quốc_gia hà_nội , chịu sự quản_lý trực_tiếp của trường đại_học khoa_học xã_hội và nhân_văn .',\n",
       "  'năm_ngoái , trường thpt chuyên_khoa_học xã_hội và nhân_văn tuyển 180 học_sinh , thu_hút hơn 1.000 thí_sinh tham_dự .',\n",
       "  'điểm_chuẩn với lớp chuyên ngữ_văn là 33,5 , hai lớp địa_lý và lịch_sử lần_lượt lấy 28,5 và 28 , trung_bình 5,6 - 6,7 điểm mỗi môn .',\n",
       "  'thanh hằng'],\n",
       " 'claim': 'điểm xét tuyển là tổng_điểm các môn thi theo thang điểm 10 , môn chuyên nhân hệ_số hai , không cộng điểm ưu_tiên , không tuyển thẳng',\n",
       " 'evidence': 'trường không cộng điểm ưu_tiên trong tuyển_sinh , không xét tuyển thẳng .',\n",
       " 'verdict': 'SUPPORTED'}"
      ]
     },
     "execution_count": 99,
     "metadata": {},
     "output_type": "execute_result"
    }
   ],
   "source": [
    "new_data[9]"
   ]
  },
  {
   "cell_type": "markdown",
   "id": "e5965a14",
   "metadata": {},
   "source": [
    "## tạo data cho triplet loss"
   ]
  },
  {
   "cell_type": "code",
   "execution_count": 106,
   "id": "8707a937",
   "metadata": {},
   "outputs": [],
   "source": [
    "import hashlib, json, random, tqdm, os\n",
    "random.seed(42)\n",
    "\n",
    "def hash_context(sent_list):\n",
    "    \"\"\"Tạo ID duy nhất cho một context (list sentence).\"\"\"\n",
    "    txt = \" \".join(sent_list)\n",
    "    return hashlib.md5(txt.encode(\"utf-8\")).hexdigest()\n",
    "\n",
    "\n",
    "context_bank = {}           # context_id  -> list(sentence)\n",
    "examples_by_context = []   # lưu meta cho từng claim\n",
    "\n",
    "for item in new_data:\n",
    "    cid = hash_context(item['context'])\n",
    "    if cid not in context_bank:\n",
    "        context_bank[cid] = item['context']\n",
    "    examples_by_context.append({\n",
    "        'cid': cid,\n",
    "        'claim': item['claim'],\n",
    "        'evidence': item['evidence'],\n",
    "        'verdict': item['verdict']\n",
    "    })"
   ]
  },
  {
   "cell_type": "code",
   "execution_count": 107,
   "id": "cdbcbc15",
   "metadata": {},
   "outputs": [],
   "source": [
    "def sample_negatives(curr_cid, ev_sentence, k_in=1, k_out=1):\n",
    "    negs = []\n",
    "    \n",
    "    # a) Cùng context nhưng ≠ evidence\n",
    "    in_context = [s for s in context_bank[curr_cid] if s != ev_sentence]\n",
    "    if in_context:\n",
    "        negs.extend(random.sample(in_context, min(k_in, len(in_context))))\n",
    "    \n",
    "    # b) Khác context\n",
    "    while len(negs) < k_in + k_out:\n",
    "        cid = random.choice(list(context_bank.keys()))\n",
    "        if cid == curr_cid: continue\n",
    "        negs.append(random.choice(context_bank[cid]))\n",
    "    return negs\n",
    "\n",
    "triplets = []\n",
    "for ex in examples_by_context:\n",
    "    if ex['verdict'] == 'NEI' or ex['evidence'] == '':\n",
    "        continue\n",
    "    negs = sample_negatives(ex['cid'], ex['evidence'], k_in=1, k_out=1)\n",
    "    for neg in negs:          # tạo 1 triplet cho mỗi negative\n",
    "        triplets.append({\n",
    "            \"anchor\":   ex['claim'],\n",
    "            \"positive\": ex['evidence'],\n",
    "            \"negative\": neg\n",
    "        })\n",
    "\n",
    "# Lưu\n",
    "with open(\"train_triplets.jsonl\", \"w\", encoding=\"utf8\") as f:\n",
    "    for row in triplets:\n",
    "        f.write(json.dumps(row, ensure_ascii=False) + \"\\n\")\n"
   ]
  },
  {
   "cell_type": "code",
   "execution_count": 108,
   "id": "6f660577",
   "metadata": {},
   "outputs": [
    {
     "data": {
      "text/plain": [
       "{'anchor': 'ngoài việc không giới_hạn_mức lương , công_ty còn có đãi_ngộ tốt , có phụ_cấp , lương tháng 13,14 , ...',\n",
       " 'positive': 'công_ty cũng có chế_độ đãi_ngộ tốt , có lương tháng 13 , 14 , phụ_cấp . .',\n",
       " 'negative': 'ông cũng chia_sẻ việc trở_thành đối_tác đào_tạo và tuyển_dụng cùng funix sẽ giúp faba technology đạt mục_tiêu trở_thành_công_ty offshore development chất_lượng nhất trong khu_vực .'}"
      ]
     },
     "execution_count": 108,
     "metadata": {},
     "output_type": "execute_result"
    }
   ],
   "source": [
    "triplets[0]"
   ]
  }
 ],
 "metadata": {
  "kernelspec": {
   "display_name": "ctai-machinelearning",
   "language": "python",
   "name": "python3"
  },
  "language_info": {
   "codemirror_mode": {
    "name": "ipython",
    "version": 3
   },
   "file_extension": ".py",
   "mimetype": "text/x-python",
   "name": "python",
   "nbconvert_exporter": "python",
   "pygments_lexer": "ipython3",
   "version": "3.10.18"
  }
 },
 "nbformat": 4,
 "nbformat_minor": 5
}
