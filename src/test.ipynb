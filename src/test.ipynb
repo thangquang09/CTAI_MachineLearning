{
 "cells": [
  {
   "cell_type": "code",
   "execution_count": 36,
   "id": "c000d919",
   "metadata": {},
   "outputs": [
    {
     "name": "stderr",
     "output_type": "stream",
     "text": [
      "[nltk_data] Downloading package punkt to\n",
      "[nltk_data]     /home/thangquang09/nltk_data...\n",
      "[nltk_data]   Package punkt is already up-to-date!\n",
      "[nltk_data] Downloading package punkt_tab to\n",
      "[nltk_data]     /home/thangquang09/nltk_data...\n",
      "[nltk_data]   Package punkt_tab is already up-to-date!\n"
     ]
    },
    {
     "name": "stdout",
     "output_type": "stream",
     "text": [
      "Kích thước từ vựng: 9083\n",
      "Index của '<pad>': 0\n",
      "Index của một từ ngẫu nhiên 'hello': 2\n",
      "Index của một từ không có trong từ điển: 2\n"
     ]
    }
   ],
   "source": [
    "from build_dataset_dataloader import get_dataset, text_to_sequence, TextComparisonDataset\n",
    "\n",
    "train_dataset, val_dataset, vocabulary = get_dataset(case=1)"
   ]
  },
  {
   "cell_type": "code",
   "execution_count": 2,
   "id": "12b1ea34",
   "metadata": {},
   "outputs": [
    {
     "data": {
      "text/plain": [
       "9125"
      ]
     },
     "execution_count": 2,
     "metadata": {},
     "output_type": "execute_result"
    }
   ],
   "source": [
    "len(vocabulary)"
   ]
  },
  {
   "cell_type": "code",
   "execution_count": 3,
   "id": "0c0e2ac8",
   "metadata": {},
   "outputs": [],
   "source": [
    "from torch.utils.data import DataLoader\n",
    "\n",
    "train_dataloader = DataLoader(train_dataset, batch_size=16, shuffle=True)\n",
    "val_dataloader = DataLoader(val_dataset, batch_size=16, shuffle=False)"
   ]
  },
  {
   "cell_type": "code",
   "execution_count": 4,
   "id": "3264f2ac",
   "metadata": {},
   "outputs": [
    {
     "data": {
      "text/plain": [
       "[tensor([[2620,    8, 2396,  ...,    0,    0,    0],\n",
       "         [  26,  329,    4,  ...,    0,    0,    0],\n",
       "         [  10,   14,    7,  ...,    0,    0,    0],\n",
       "         ...,\n",
       "         [   7,  308,   16,  ...,    0,    0,    0],\n",
       "         [ 421,   81,   48,  ...,    0,    0,    0],\n",
       "         [   3,   96,  116,  ...,    0,    0,    0]]),\n",
       " tensor([[   8, 2396,    4,  ...,    0,    0,    0],\n",
       "         [  26,  329,    4,  ...,  571,  572,  573],\n",
       "         [   7, 1285, 2626,  ...,  630, 1669,  807],\n",
       "         ...,\n",
       "         [6510,  467,  147,  ...,    0,    0,    0],\n",
       "         [   7,  156, 1941,  ...,    0,    0,    0],\n",
       "         [   0,    0,    0,  ...,    0,    0,    0]]),\n",
       " tensor([0., 0., 0., 0., 1., 1., 1., 0., 0., 1., 1., 1., 0., 0., 0., 0.])]"
      ]
     },
     "execution_count": 4,
     "metadata": {},
     "output_type": "execute_result"
    }
   ],
   "source": [
    "next(iter(train_dataloader))"
   ]
  },
  {
   "cell_type": "code",
   "execution_count": 3,
   "id": "9d26b99c",
   "metadata": {},
   "outputs": [
    {
     "ename": "NameError",
     "evalue": "name 'vocabulary' is not defined",
     "output_type": "error",
     "traceback": [
      "\u001b[0;31m---------------------------------------------------------------------------\u001b[0m",
      "\u001b[0;31mNameError\u001b[0m                                 Traceback (most recent call last)",
      "Cell \u001b[0;32mIn[3], line 10\u001b[0m\n\u001b[1;32m      8\u001b[0m NUM_EPOCHS \u001b[38;5;241m=\u001b[39m \u001b[38;5;241m20\u001b[39m\n\u001b[1;32m      9\u001b[0m LEARNING_RATE \u001b[38;5;241m=\u001b[39m \u001b[38;5;241m0.001\u001b[39m\n\u001b[0;32m---> 10\u001b[0m VOCAB_SIZE \u001b[38;5;241m=\u001b[39m \u001b[38;5;28mlen\u001b[39m(\u001b[43mvocabulary\u001b[49m)\n\u001b[1;32m     11\u001b[0m SEQ_LENGTH \u001b[38;5;241m=\u001b[39m \u001b[38;5;241m600\u001b[39m\n\u001b[1;32m     13\u001b[0m model \u001b[38;5;241m=\u001b[39m SiameseLSTM(VOCAB_SIZE, EMBEDDING_DIM, HIDDEN_DIM, OUTPUT_DIM)\n",
      "\u001b[0;31mNameError\u001b[0m: name 'vocabulary' is not defined"
     ]
    }
   ],
   "source": [
    "import torch\n",
    "from torch import nn\n",
    "from LSTM import SiameseLSTM\n",
    "\n",
    "EMBEDDING_DIM = 64\n",
    "HIDDEN_DIM = 128\n",
    "OUTPUT_DIM = 1 # Output 1 giá trị logit cho binary classification\n",
    "NUM_EPOCHS = 20\n",
    "LEARNING_RATE = 0.001\n",
    "VOCAB_SIZE = len(vocabulary)\n",
    "SEQ_LENGTH = 600\n",
    "\n",
    "model = SiameseLSTM(VOCAB_SIZE, EMBEDDING_DIM, HIDDEN_DIM, OUTPUT_DIM)"
   ]
  },
  {
   "cell_type": "code",
   "execution_count": 6,
   "id": "acdfb406",
   "metadata": {},
   "outputs": [],
   "source": [
    "device = torch.device(\"cuda\" if torch.cuda.is_available() else \"cpu\")"
   ]
  },
  {
   "cell_type": "code",
   "execution_count": 7,
   "id": "6ac4afd7",
   "metadata": {},
   "outputs": [],
   "source": [
    "criterion = nn.BCEWithLogitsLoss()\n",
    "optimizer = torch.optim.AdamW(model.parameters(), lr=LEARNING_RATE)\n"
   ]
  },
  {
   "cell_type": "code",
   "execution_count": 8,
   "id": "0b671010",
   "metadata": {},
   "outputs": [],
   "source": [
    "def evaluate(model, valid_dataloader, criterion):\n",
    "    model.eval()\n",
    "    total_loss = 0\n",
    "    running_correct = 0\n",
    "    total = 0\n",
    "    with torch.no_grad():\n",
    "        for seq1, seq2, labels in valid_dataloader:\n",
    "            seq1, seq2, labels = seq1.to(device), seq2.to(device), labels.to(device).float()\n",
    "            outputs = model(seq1, seq2)\n",
    "            loss = criterion(outputs.squeeze(1), labels)\n",
    "            total_loss += loss.item()\n",
    "            \n",
    "            predicted = (torch.sigmoid(outputs.squeeze(1)) > 0.5).float()\n",
    "            running_correct += (predicted == labels).sum().item()\n",
    "            total += labels.size(0)\n",
    "    accuracy = 100 * running_correct / total\n",
    "    total_loss = total_loss / total\n",
    "    return total_loss, accuracy"
   ]
  },
  {
   "cell_type": "code",
   "execution_count": 9,
   "id": "553da1c9",
   "metadata": {},
   "outputs": [],
   "source": [
    "import time\n",
    "\n",
    "def train(model, max_epoch, train_dataloader, valid_dataloader, criterion, optimizer, device):\n",
    "    model.to(device)\n",
    "    train_losses = []\n",
    "    train_accuracies = []\n",
    "    test_losses = []\n",
    "    test_accuracies = []\n",
    "\n",
    "    # callbacks (save best params)\n",
    "    best_weights = None\n",
    "    best_test_acc, best_test_loss = -1, float('inf')\n",
    "\n",
    "\n",
    "    for epoch in range(max_epoch):\n",
    "        model.train()\n",
    "        running_loss = 0.0\n",
    "        running_correct = 0   # to track number of correct predictions\n",
    "        total = 0   \n",
    "        \n",
    "        for i, (seq1, seq2, labels) in enumerate(train_dataloader):\n",
    "            epoch_start_time = time.time()\n",
    "            \n",
    "            seq1, seq2, labels = seq1.to(device), seq2.to(device), labels.to(device).float()\n",
    "            \n",
    "            optimizer.zero_grad()\n",
    "            \n",
    "            # Forward\n",
    "            outputs = model(seq1, seq2)\n",
    "            loss = criterion(outputs.squeeze(1), labels)\n",
    "            running_loss += loss.item()\n",
    "            \n",
    "            predicted = (torch.sigmoid(outputs.squeeze(1)) > 0.5).float()\n",
    "            total += labels.size(0)\n",
    "            running_correct += (predicted == labels).sum().item()\n",
    "            \n",
    "            # Backward\n",
    "            loss.backward()\n",
    "            optimizer.step()\n",
    "\n",
    "        epoch_accuracy = 100 * running_correct / total\n",
    "        epoch_loss = running_loss / total\n",
    "\n",
    "        test_loss, test_accuracy = evaluate(model, valid_dataloader, criterion)\n",
    "\n",
    "        if test_loss < best_test_loss:\n",
    "            best_test_loss = test_loss\n",
    "            # best_test_acc = test_accuracy\n",
    "            best_weights = model.state_dict()\n",
    "            \n",
    "        print(\n",
    "            \"| Epoch {:3d} | Time: {:5.2f}s | Train Accuracy {:8.3f}% | Train Loss {:8.3f} \"\n",
    "            \"| Valid Accuracy {:8.3f}% | Valid Loss {:8.3f} \".format(\n",
    "                epoch+1, time.time() - epoch_start_time, epoch_accuracy, epoch_loss, test_accuracy, test_loss\n",
    "            )\n",
    "        )\n",
    "        \n",
    "        # save for plot\n",
    "        train_losses.append(epoch_loss)\n",
    "        train_accuracies.append(epoch_accuracy)\n",
    "        test_losses.append(test_loss)\n",
    "        test_accuracies.append(test_accuracy)\n",
    "        \n",
    "    values_dict = {\n",
    "        \"train_losses\": train_losses,\n",
    "        \"train_accuracies\": train_accuracies,\n",
    "        \"test_losses\": test_losses,\n",
    "        \"test_accuracies\": test_accuracies\n",
    "    }\n",
    "\n",
    "    return values_dict, best_weights"
   ]
  },
  {
   "cell_type": "code",
   "execution_count": 10,
   "id": "d99de564",
   "metadata": {},
   "outputs": [
    {
     "name": "stdout",
     "output_type": "stream",
     "text": [
      "| Epoch   1 | Time:  0.32s | Train Accuracy   58.068% | Train Loss    0.042 | Valid Accuracy   66.000% | Valid Loss    0.043 \n",
      "| Epoch   2 | Time:  0.31s | Train Accuracy   60.895% | Train Loss    0.040 | Valid Accuracy   67.000% | Valid Loss    0.042 \n"
     ]
    }
   ],
   "source": [
    "model.to(device)\n",
    "\n",
    "history, best_weights = train(model, 2, train_dataloader, val_dataloader, criterion, optimizer, device)"
   ]
  },
  {
   "cell_type": "markdown",
   "id": "de57284e",
   "metadata": {},
   "source": [
    "## Make Submisison"
   ]
  },
  {
   "cell_type": "code",
   "execution_count": 33,
   "id": "36e52a72",
   "metadata": {},
   "outputs": [
    {
     "data": {
      "text/plain": [
       "<All keys matched successfully>"
      ]
     },
     "execution_count": 33,
     "metadata": {},
     "output_type": "execute_result"
    }
   ],
   "source": [
    "# load model from /home/thangquang09/CODE/CTAI_MachineLearning/models/Siamese_LSTM_case2.pth\n",
    "model = SiameseLSTM(\n",
    "    vocab_size=9083,\n",
    "    embedding_dim=EMBEDDING_DIM,\n",
    "    hidden_dim=HIDDEN_DIM,\n",
    "    output_dim=OUTPUT_DIM,\n",
    ")\n",
    "\n",
    "model.load_state_dict(torch.load('/home/thangquang09/CODE/CTAI_MachineLearning/models/Siamese_LSTM_case1.pth', map_location='cpu'))\n"
   ]
  },
  {
   "cell_type": "code",
   "execution_count": 38,
   "id": "e5180f25",
   "metadata": {},
   "outputs": [
    {
     "name": "stdout",
     "output_type": "stream",
     "text": [
      "Number of directories: 1068\n"
     ]
    }
   ],
   "source": [
    "import pandas as pd\n",
    "from load_data import read_texts_from_dir\n",
    "from torch.utils.data import DataLoader\n",
    "\n",
    "df_test = read_texts_from_dir('/home/thangquang09/CODE/CTAI_MachineLearning/data/fake-or-real-the-impostor-hunt/data/test')\n",
    "df_test['label'] = 3\n",
    "\n",
    "test_dataset = TextComparisonDataset(df_test, vocabulary)\n",
    "test_dataloader = DataLoader(test_dataset, batch_size=32, shuffle=False)"
   ]
  },
  {
   "cell_type": "code",
   "execution_count": 39,
   "id": "17064002",
   "metadata": {},
   "outputs": [],
   "source": [
    "device = torch.device(\"cuda\" if torch.cuda.is_available() else \"cpu\")\n",
    "full_predicted = []\n",
    "\n",
    "for seq1, seq2, labels in test_dataloader:\n",
    "    seq1, seq2 = seq1.to(device), seq2.to(device)\n",
    "    outputs = model(seq1, seq2)\n",
    "    predicted = (torch.sigmoid(outputs.squeeze(1)) > 0.5).float()\n",
    "    full_predicted.append(predicted)\n",
    "\n",
    "# Concatenate all predictions\n",
    "full_predicted = torch.cat(full_predicted, dim=0)\n"
   ]
  },
  {
   "cell_type": "code",
   "execution_count": 40,
   "id": "23a57915",
   "metadata": {},
   "outputs": [],
   "source": [
    "full_predicted = full_predicted.cpu().numpy()\n",
    "full_predicted = full_predicted + 1"
   ]
  },
  {
   "cell_type": "code",
   "execution_count": 41,
   "id": "5be2636b",
   "metadata": {},
   "outputs": [],
   "source": [
    "\n",
    "from pathlib import Path\n",
    "\n",
    "def make_submission(y_pred, file_name):\n",
    "    submission = pd.DataFrame({\n",
    "        \"id\": df_test.index,\n",
    "        \"real_text_id\": y_pred.astype(int)\n",
    "    }).sort_values(\"id\")\n",
    "\n",
    "    save_path = Path(file_name)\n",
    "    submission.to_csv(save_path, index=False)\n",
    "    print(f\"✅ Submission saved to {save_path.resolve()}\")"
   ]
  },
  {
   "cell_type": "code",
   "execution_count": 42,
   "id": "3b51a11d",
   "metadata": {},
   "outputs": [
    {
     "name": "stdout",
     "output_type": "stream",
     "text": [
      "✅ Submission saved to /home/thangquang09/CODE/CTAI_MachineLearning/src/submission_case1_LSTM.csv\n"
     ]
    }
   ],
   "source": [
    "make_submission(full_predicted, 'submission_case1_LSTM.csv')"
   ]
  },
  {
   "cell_type": "code",
   "execution_count": null,
   "id": "bac78d9f",
   "metadata": {},
   "outputs": [],
   "source": []
  }
 ],
 "metadata": {
  "kernelspec": {
   "display_name": "ctai-machinelearning",
   "language": "python",
   "name": "python3"
  },
  "language_info": {
   "codemirror_mode": {
    "name": "ipython",
    "version": 3
   },
   "file_extension": ".py",
   "mimetype": "text/x-python",
   "name": "python",
   "nbconvert_exporter": "python",
   "pygments_lexer": "ipython3",
   "version": "3.10.18"
  }
 },
 "nbformat": 4,
 "nbformat_minor": 5
}
