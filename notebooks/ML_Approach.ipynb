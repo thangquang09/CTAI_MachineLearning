{
 "cells": [
  {
   "cell_type": "markdown",
   "id": "c6b0e4b9",
   "metadata": {},
   "source": [
    "## I. Read Data (Only Statistic Features)"
   ]
  },
  {
   "cell_type": "code",
   "execution_count": 30,
   "id": "562c7a66",
   "metadata": {},
   "outputs": [
    {
     "name": "stdout",
     "output_type": "stream",
     "text": [
      "Shape Train: (152, 52)\n",
      "Shape Validation: (19, 52)\n",
      "Columns Train: Index(['label', 'file1_char_count', 'file1_word_count', 'file1_sentence_count',\n",
      "       'file1_avg_sentence_length', 'file1_english_word_ratio',\n",
      "       'file1_cyrillic_count', 'file1_arabic_count', 'file1_chinese_count',\n",
      "       'file1_script_diversity', 'file1_unicode_control_chars',\n",
      "       'file1_number_count', 'file1_uppercase_word_count',\n",
      "       'file1_repetition_score', 'file1_perplexity_score', 'file1_ttr_ratio',\n",
      "       'file2_char_count', 'file2_word_count', 'file2_sentence_count',\n",
      "       'file2_avg_sentence_length', 'file2_english_word_ratio',\n",
      "       'file2_cyrillic_count', 'file2_arabic_count', 'file2_chinese_count',\n",
      "       'file2_script_diversity', 'file2_unicode_control_chars',\n",
      "       'file2_number_count', 'file2_uppercase_word_count',\n",
      "       'file2_repetition_score', 'file2_perplexity_score', 'file2_ttr_ratio',\n",
      "       'diff_char_count', 'ratio_char_count', 'diff_word_count',\n",
      "       'ratio_word_count', 'diff_sentence_count', 'ratio_sentence_count',\n",
      "       'diff_avg_sentence_length', 'diff_english_word_ratio',\n",
      "       'diff_cyrillic_count', 'diff_arabic_count', 'diff_chinese_count',\n",
      "       'diff_script_diversity', 'diff_unicode_control_chars',\n",
      "       'diff_number_count', 'diff_uppercase_word_count',\n",
      "       'diff_repetition_score', 'diff_perplexity_score',\n",
      "       'ratio_perplexity_score', 'diff_ttr_ratio', 'ratio_ttr_ratio',\n",
      "       'cosine_sim_word_counts'],\n",
      "      dtype='object')\n"
     ]
    }
   ],
   "source": [
    "import numpy as np\n",
    "import pandas as pd\n",
    "import os\n",
    "import sys\n",
    "\n",
    "# Find project root directory automatically\n",
    "def find_project_root():\n",
    "    current_dir = os.getcwd()\n",
    "    while current_dir != '/':\n",
    "        if any(marker in os.listdir(current_dir) for marker in ['.gitignore', 'requirements.txt', 'setup.py', 'pyproject.toml']):\n",
    "            return current_dir\n",
    "        current_dir = os.path.dirname(current_dir)\n",
    "    return os.getcwd()  # fallback to current directory\n",
    "\n",
    "project_root = find_project_root()\n",
    "\n",
    "train_stat_df_path = os.path.join(project_root, 'data/train_statistic_features.csv')\n",
    "val_stat_df_path = os.path.join(project_root, 'data/val_statistic_features.csv')\n",
    "train_tfidf_df_path = os.path.join(project_root, 'data/train_tfidf_features.csv')\n",
    "val_tfidf_df_path = os.path.join(project_root, 'data/val_tfidf_features.csv')\n",
    "train_bow_df_path = os.path.join(project_root, 'data/train_bow_features.csv')\n",
    "val_bow_df_path = os.path.join(project_root, 'data/val_bow_features.csv')\n",
    "\n",
    "\n",
    "train_stat_df = pd.read_csv(train_stat_df_path)\n",
    "val_stat_df = pd.read_csv(val_stat_df_path)\n",
    "\n",
    "\n",
    "\n",
    "\n",
    "print(\"Shape Train:\", train_stat_df.shape)\n",
    "print(\"Shape Validation:\", val_stat_df.shape)\n",
    "print(\"Columns Train:\", train_stat_df.columns)"
   ]
  },
  {
   "cell_type": "markdown",
   "id": "157089a6",
   "metadata": {},
   "source": [
    "Có thể đọc mô tả các features ở [đây](../data/README.md#processed-features-information)"
   ]
  },
  {
   "cell_type": "code",
   "execution_count": 31,
   "id": "cc02778d",
   "metadata": {},
   "outputs": [],
   "source": [
    "X_train, y_train = train_stat_df.drop(columns=[\"label\"]), train_stat_df[\"label\"]\n",
    "X_val, y_val = val_stat_df.drop(columns=[\"label\"]), val_stat_df[\"label\"]"
   ]
  },
  {
   "cell_type": "markdown",
   "id": "e4770863",
   "metadata": {},
   "source": [
    "## "
   ]
  },
  {
   "cell_type": "markdown",
   "id": "470c0976",
   "metadata": {},
   "source": [
    "## Modeling"
   ]
  },
  {
   "cell_type": "code",
   "execution_count": 32,
   "id": "5265deb3",
   "metadata": {},
   "outputs": [
    {
     "name": "stdout",
     "output_type": "stream",
     "text": [
      "\n",
      "============================================================\n",
      "SUMMARY OF MODEL PERFORMANCE (Sorted by Accuracy)\n",
      "============================================================\n"
     ]
    },
    {
     "data": {
      "text/html": [
       "<div>\n",
       "<style scoped>\n",
       "    .dataframe tbody tr th:only-of-type {\n",
       "        vertical-align: middle;\n",
       "    }\n",
       "\n",
       "    .dataframe tbody tr th {\n",
       "        vertical-align: top;\n",
       "    }\n",
       "\n",
       "    .dataframe thead th {\n",
       "        text-align: right;\n",
       "    }\n",
       "</style>\n",
       "<table border=\"1\" class=\"dataframe\">\n",
       "  <thead>\n",
       "    <tr style=\"text-align: right;\">\n",
       "      <th></th>\n",
       "      <th>accuracy</th>\n",
       "    </tr>\n",
       "  </thead>\n",
       "  <tbody>\n",
       "    <tr>\n",
       "      <th>LogisticRegression</th>\n",
       "      <td>0.842105</td>\n",
       "    </tr>\n",
       "    <tr>\n",
       "      <th>SVC</th>\n",
       "      <td>0.842105</td>\n",
       "    </tr>\n",
       "    <tr>\n",
       "      <th>RandomForest</th>\n",
       "      <td>0.842105</td>\n",
       "    </tr>\n",
       "    <tr>\n",
       "      <th>KNN</th>\n",
       "      <td>0.789474</td>\n",
       "    </tr>\n",
       "  </tbody>\n",
       "</table>\n",
       "</div>"
      ],
      "text/plain": [
       "                    accuracy\n",
       "LogisticRegression  0.842105\n",
       "SVC                 0.842105\n",
       "RandomForest        0.842105\n",
       "KNN                 0.789474"
      ]
     },
     "metadata": {},
     "output_type": "display_data"
    }
   ],
   "source": [
    "from sklearn.linear_model import LogisticRegression\n",
    "from sklearn.svm import SVC\n",
    "from sklearn.ensemble import RandomForestClassifier\n",
    "from sklearn.neighbors import KNeighborsClassifier\n",
    "from sklearn.preprocessing import StandardScaler\n",
    "from sklearn.metrics import accuracy_score\n",
    "from IPython.display import display\n",
    "\n",
    "# Initialize models\n",
    "models = {\n",
    "    'LogisticRegression': LogisticRegression(random_state=42),\n",
    "    'SVC': SVC(random_state=42),\n",
    "    'RandomForest': RandomForestClassifier(random_state=42),\n",
    "    'KNN': KNeighborsClassifier()\n",
    "}\n",
    "\n",
    "# Initialize scaler\n",
    "scaler = StandardScaler()\n",
    "\n",
    "# Scale the features\n",
    "X_train_scaled = scaler.fit_transform(X_train)\n",
    "X_val_scaled = scaler.transform(X_val)\n",
    "\n",
    "# Train and evaluate models\n",
    "results = {}\n",
    "\n",
    "for model_name, model in models.items():\n",
    "    # print(f\"\\n{'='*50}\")\n",
    "    # print(f\"Training {model_name}\")\n",
    "    # print(f\"{'='*50}\")\n",
    "    \n",
    "    # Train the model\n",
    "    model.fit(X_train_scaled, y_train)\n",
    "    \n",
    "    # Make predictions\n",
    "    y_pred = model.predict(X_val_scaled)\n",
    "    \n",
    "    # Calculate metrics\n",
    "    accuracy = accuracy_score(y_val, y_pred)\n",
    "    \n",
    "    # Store results\n",
    "    results[model_name] = {\n",
    "        'accuracy': accuracy,\n",
    "        'predictions': y_pred\n",
    "    }\n",
    "    \n",
    "    # print(f\"Accuracy: {accuracy:.4f}\")\n",
    "\n",
    "# Convert results to DataFrame and sort by accuracy\n",
    "results_df = pd.DataFrame.from_dict(\n",
    "    {model: {'accuracy': result['accuracy']} for model, result in results.items()}, \n",
    "    orient='index'\n",
    ").sort_values('accuracy', ascending=False)\n",
    "\n",
    "# Summary of results\n",
    "print(f\"\\n{'='*60}\")\n",
    "print(\"SUMMARY OF MODEL PERFORMANCE (Sorted by Accuracy)\")\n",
    "print(f\"{'='*60}\")\n",
    "display(results_df)"
   ]
  },
  {
   "cell_type": "markdown",
   "id": "969ed7b4",
   "metadata": {},
   "source": [
    "## II. Data with TFIDF Features"
   ]
  },
  {
   "cell_type": "code",
   "execution_count": 33,
   "id": "890f7300",
   "metadata": {},
   "outputs": [
    {
     "name": "stdout",
     "output_type": "stream",
     "text": [
      "(152, 101) (19, 101)\n"
     ]
    }
   ],
   "source": [
    "train_tfidf_df = pd.read_csv(train_tfidf_df_path)\n",
    "val_tfidf_df = pd.read_csv(val_tfidf_df_path)\n",
    "\n",
    "\n",
    "full_train_df = pd.concat([train_stat_df, train_tfidf_df], axis=1)\n",
    "full_val_df = pd.concat([val_stat_df, val_tfidf_df], axis=1)\n",
    "\n",
    "X_train, y_train = full_train_df.drop(columns=[\"label\"]), full_train_df[\"label\"]\n",
    "X_val, y_val = full_val_df.drop(columns=[\"label\"]), full_val_df[\"label\"]\n",
    "\n",
    "print(X_train.shape, X_val.shape)"
   ]
  },
  {
   "cell_type": "code",
   "execution_count": null,
   "id": "49955551",
   "metadata": {},
   "outputs": [],
   "source": []
  },
  {
   "cell_type": "code",
   "execution_count": null,
   "id": "99827ba5",
   "metadata": {},
   "outputs": [],
   "source": []
  },
  {
   "cell_type": "markdown",
   "id": "70ab15ac",
   "metadata": {},
   "source": [
    "## II. Data with BOW Features"
   ]
  },
  {
   "cell_type": "code",
   "execution_count": 34,
   "id": "398c9cbb",
   "metadata": {},
   "outputs": [
    {
     "name": "stdout",
     "output_type": "stream",
     "text": [
      "(152, 101) (19, 101)\n"
     ]
    }
   ],
   "source": [
    "train_bow_df = pd.read_csv(train_bow_df_path)\n",
    "val_bow_df = pd.read_csv(val_bow_df_path)\n",
    "\n",
    "full_train_df = pd.concat([train_stat_df, train_bow_df], axis=1)\n",
    "full_val_df = pd.concat([val_stat_df, val_bow_df], axis=1)\n",
    "\n",
    "X_train, y_train = full_train_df.drop(columns=[\"label\"]), full_train_df[\"label\"]\n",
    "X_val, y_val = full_val_df.drop(columns=[\"label\"]), full_val_df[\"label\"]\n",
    "\n",
    "print(X_train.shape, X_val.shape)"
   ]
  },
  {
   "cell_type": "code",
   "execution_count": null,
   "id": "6374df47",
   "metadata": {},
   "outputs": [],
   "source": []
  },
  {
   "cell_type": "code",
   "execution_count": null,
   "id": "9ddfafb9",
   "metadata": {},
   "outputs": [],
   "source": []
  },
  {
   "cell_type": "markdown",
   "id": "da14bf32",
   "metadata": {},
   "source": [
    "## Data with Pertained Model Embedding"
   ]
  },
  {
   "cell_type": "code",
   "execution_count": null,
   "id": "2fa7dc4f",
   "metadata": {},
   "outputs": [],
   "source": []
  },
  {
   "cell_type": "markdown",
   "id": "6f72d5b6",
   "metadata": {},
   "source": []
  }
 ],
 "metadata": {
  "kernelspec": {
   "display_name": "ctai-machinelearning",
   "language": "python",
   "name": "python3"
  },
  "language_info": {
   "codemirror_mode": {
    "name": "ipython",
    "version": 3
   },
   "file_extension": ".py",
   "mimetype": "text/x-python",
   "name": "python",
   "nbconvert_exporter": "python",
   "pygments_lexer": "ipython3",
   "version": "3.10.18"
  }
 },
 "nbformat": 4,
 "nbformat_minor": 5
}
